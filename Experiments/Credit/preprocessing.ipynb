{
 "cells": [
  {
   "cell_type": "code",
   "execution_count": 1,
   "metadata": {},
   "outputs": [],
   "source": [
    "import pandas as pd\n",
    "\n",
    "# Read the text file\n",
    "with open('credit_edges.txt', 'r') as file:\n",
    "    lines = file.readlines()\n",
    "\n",
    "# Split the lines into two columns\n",
    "column1 = []\n",
    "column2 = []\n",
    "for line in lines:\n",
    "    values = line.split()\n",
    "    column1.append(values[0])\n",
    "    column2.append(values[1])\n",
    "\n",
    "# Create dataframes for each column\n",
    "df = pd.DataFrame({'uid1': column1, 'uid2': column2})\n",
    "\n",
    "df.to_csv('credit_edges.csv', index=False)"
   ]
  }
 ],
 "metadata": {
  "kernelspec": {
   "display_name": "fairgnn_env",
   "language": "python",
   "name": "python3"
  },
  "language_info": {
   "codemirror_mode": {
    "name": "ipython",
    "version": 3
   },
   "file_extension": ".py",
   "mimetype": "text/x-python",
   "name": "python",
   "nbconvert_exporter": "python",
   "pygments_lexer": "ipython3",
   "version": "3.7.12"
  }
 },
 "nbformat": 4,
 "nbformat_minor": 2
}
